{
 "cells": [
  {
   "cell_type": "code",
   "execution_count": 99,
   "id": "e4a3b094",
   "metadata": {},
   "outputs": [],
   "source": [
    "from nltk.stem import WordNetLemmatizer\n",
    "from nltk.tokenize import word_tokenize\n",
    "from nltk.tokenize import sent_tokenize"
   ]
  },
  {
   "cell_type": "code",
   "execution_count": 100,
   "id": "b281d457",
   "metadata": {},
   "outputs": [],
   "source": [
    "corpus='''I want to visit the learns maths website and Open the trigonometry chapter!Read the main informations in that part'''"
   ]
  },
  {
   "cell_type": "code",
   "execution_count": 101,
   "id": "951aa7dc",
   "metadata": {},
   "outputs": [],
   "source": [
    "from nltk.corpus import stopwords\n",
    "lemmatizer=WordNetLemmatizer()   "
   ]
  },
  {
   "cell_type": "code",
   "execution_count": 102,
   "id": "c9a85bd8",
   "metadata": {},
   "outputs": [],
   "source": [
    "sentences=sent_tokenize(corpus)"
   ]
  },
  {
   "cell_type": "code",
   "execution_count": 103,
   "id": "df279975",
   "metadata": {},
   "outputs": [
    {
     "name": "stdout",
     "output_type": "stream",
     "text": [
      "['i', 'want', 'visit', 'learn', 'maths', 'website', 'open', 'trigonometry', 'chapter', '!', 'read', 'main', 'informations', 'part']\n"
     ]
    }
   ],
   "source": [
    "for i in range(len(sentences)):\n",
    "    words=word_tokenize(sentences[i])\n",
    "    words=[lemmatizer.lemmatize(word.lower(),pos='v') for word in words if word not in set(stopwords.words('english'))]\n",
    "    print(words)"
   ]
  },
  {
   "cell_type": "code",
   "execution_count": null,
   "id": "91d93015",
   "metadata": {},
   "outputs": [],
   "source": []
  },
  {
   "cell_type": "code",
   "execution_count": null,
   "id": "85262be3",
   "metadata": {},
   "outputs": [],
   "source": []
  },
  {
   "cell_type": "code",
   "execution_count": null,
   "id": "361537c5",
   "metadata": {},
   "outputs": [],
   "source": []
  },
  {
   "cell_type": "code",
   "execution_count": null,
   "id": "fe02ab4e",
   "metadata": {},
   "outputs": [],
   "source": []
  }
 ],
 "metadata": {
  "kernelspec": {
   "display_name": "Python 3 (ipykernel)",
   "language": "python",
   "name": "python3"
  },
  "language_info": {
   "codemirror_mode": {
    "name": "ipython",
    "version": 3
   },
   "file_extension": ".py",
   "mimetype": "text/x-python",
   "name": "python",
   "nbconvert_exporter": "python",
   "pygments_lexer": "ipython3",
   "version": "3.11.5"
  }
 },
 "nbformat": 4,
 "nbformat_minor": 5
}
